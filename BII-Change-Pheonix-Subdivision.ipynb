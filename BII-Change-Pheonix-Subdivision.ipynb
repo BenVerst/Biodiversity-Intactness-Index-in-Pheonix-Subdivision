{
 "cells": [
  {
   "cell_type": "markdown",
   "id": "b0564057-7feb-4a9d-a208-16948b090ed6",
   "metadata": {},
   "source": [
    "## Import Libraries"
   ]
  },
  {
   "cell_type": "code",
   "execution_count": 5,
   "id": "d4b9489b-52b2-4b95-8ef4-ec8ec527b6ca",
   "metadata": {
    "tags": []
   },
   "outputs": [],
   "source": [
    "import numpy as np\n",
    "import geopandas as gpd\n",
    "import rioxarray as rioxr\n",
    "import matplotlib.pyplot as plt\n",
    "\n",
    "from shapely.geometry import Polygon\n",
    "\n",
    "# used to access STAC catalogs\n",
    "from pystac_client import Client\n",
    "# used to sign items from teh NPC STAC catalog\n",
    "import planetary_computer\n",
    "\n",
    "# other libraries for nice outputs\n",
    "from IPython.display import Image"
   ]
  },
  {
   "cell_type": "markdown",
   "id": "2839bf3c-b28b-470e-90cb-a8889599205f",
   "metadata": {},
   "source": [
    "## Data Search\n",
    "### The `io-biodiversity` collection"
   ]
  },
  {
   "cell_type": "code",
   "execution_count": 6,
   "id": "406ad4e8-ba45-4841-8dbc-106b306b9394",
   "metadata": {
    "tags": []
   },
   "outputs": [],
   "source": [
    "# access catalog\n",
    "catalog = Client.open(\n",
    "    \"https://planetarycomputer.microsoft.com/api/stac/v1\",\n",
    "    modifier=planetary_computer.sign_inplace,\n",
    ")"
   ]
  },
  {
   "cell_type": "code",
   "execution_count": 8,
   "id": "10802049-e131-4590-978c-835d148bbfad",
   "metadata": {
    "tags": []
   },
   "outputs": [],
   "source": [
    "# make a bbox using Pheonix Subdivision coords\n",
    "bbox = [-112.826843, 32.974108, -111.184387, 33.863574]\n",
    "\n",
    "\n",
    "# search \n",
    "search = catalog.search(\n",
    "    collections=[\"io-biodiversity\"],\n",
    "    bbox = bbox,\n",
    "    datetime = \"2017/2020\" # time range\n",
    ")"
   ]
  },
  {
   "cell_type": "code",
   "execution_count": 9,
   "id": "8425e215-9385-43d1-94da-ce2b40626014",
   "metadata": {
    "tags": []
   },
   "outputs": [
    {
     "name": "stdout",
     "output_type": "stream",
     "text": [
      "There are 4 items in the search.\n"
     ]
    }
   ],
   "source": [
    "# get items from search\n",
    "items = search.item_collection()\n",
    "print(f'There are {len(items)} items in the search.')"
   ]
  },
  {
   "cell_type": "markdown",
   "id": "27a4000f-6f7c-4da5-a1c4-e85d455fb50c",
   "metadata": {},
   "source": [
    "## Pheonix Subdivision Map"
   ]
  }
 ],
 "metadata": {
  "kernelspec": {
   "display_name": "Python 3 (ipykernel)",
   "language": "python",
   "name": "python3"
  },
  "language_info": {
   "codemirror_mode": {
    "name": "ipython",
    "version": 3
   },
   "file_extension": ".py",
   "mimetype": "text/x-python",
   "name": "python",
   "nbconvert_exporter": "python",
   "pygments_lexer": "ipython3",
   "version": "3.11.4"
  }
 },
 "nbformat": 4,
 "nbformat_minor": 5
}
